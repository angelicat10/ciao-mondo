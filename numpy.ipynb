{
 "cells": [
  {
   "cell_type": "markdown",
   "id": "5ac7b772-10e3-452b-b6f2-1fa9055a1f7e",
   "metadata": {},
   "source": [
    "import array"
   ]
  },
  {
   "cell_type": "code",
   "execution_count": 7,
   "id": "678f22ba-f435-4af1-92d4-d652d7bcdefa",
   "metadata": {},
   "outputs": [
    {
     "ename": "ModuleNotFoundError",
     "evalue": "No module named 'numpy'",
     "output_type": "error",
     "traceback": [
      "\u001b[1;31m---------------------------------------------------------------------------\u001b[0m",
      "\u001b[1;31mModuleNotFoundError\u001b[0m                       Traceback (most recent call last)",
      "\u001b[1;32mC:\\Users\\DARWIN~1\\AppData\\Local\\Temp/ipykernel_15624/402457174.py\u001b[0m in \u001b[0;36m<module>\u001b[1;34m\u001b[0m\n\u001b[1;32m----> 1\u001b[1;33m \u001b[1;32mimport\u001b[0m \u001b[0mnumpy\u001b[0m \u001b[1;32mas\u001b[0m \u001b[0mnp\u001b[0m\u001b[1;33m\u001b[0m\u001b[1;33m\u001b[0m\u001b[0m\n\u001b[0m",
      "\u001b[1;31mModuleNotFoundError\u001b[0m: No module named 'numpy'"
     ]
    }
   ],
   "source": [
    "import numpy as np\n"
   ]
  },
  {
   "cell_type": "code",
   "execution_count": 6,
   "id": "f2d11c6b-a7f4-41e4-aa05-e37c0d0dee23",
   "metadata": {},
   "outputs": [
    {
     "ename": "NameError",
     "evalue": "name 'np' is not defined",
     "output_type": "error",
     "traceback": [
      "\u001b[1;31m---------------------------------------------------------------------------\u001b[0m",
      "\u001b[1;31mNameError\u001b[0m                                 Traceback (most recent call last)",
      "\u001b[1;32mC:\\Users\\DARWIN~1\\AppData\\Local\\Temp/ipykernel_15624/3937361302.py\u001b[0m in \u001b[0;36m<module>\u001b[1;34m\u001b[0m\n\u001b[1;32m----> 1\u001b[1;33m \u001b[0mnp\u001b[0m\u001b[1;33m.\u001b[0m\u001b[0mzeros\u001b[0m\u001b[1;33m(\u001b[0m\u001b[1;36m50\u001b[0m\u001b[1;33m,\u001b[0m \u001b[0mdtype\u001b[0m\u001b[1;33m=\u001b[0m\u001b[0mint\u001b[0m\u001b[1;33m)\u001b[0m\u001b[1;33m\u001b[0m\u001b[1;33m\u001b[0m\u001b[0m\n\u001b[0m",
      "\u001b[1;31mNameError\u001b[0m: name 'np' is not defined"
     ]
    }
   ],
   "source": [
    "np.zeros(50, dtype=int)"
   ]
  },
  {
   "cell_type": "code",
   "execution_count": null,
   "id": "2a0101a5-face-44f9-801d-2548354c26f8",
   "metadata": {},
   "outputs": [],
   "source": [
    "np.ones((3, 5), dtype=int)"
   ]
  },
  {
   "cell_type": "code",
   "execution_count": null,
   "id": "01cec1f2-34c3-4f63-8c95-42d552e13b00",
   "metadata": {},
   "outputs": [],
   "source": [
    "np.full((3, 3), 12.34)"
   ]
  },
  {
   "cell_type": "code",
   "execution_count": null,
   "id": "b3124510-b5f7-47ea-a46b-60c5a439acfd",
   "metadata": {},
   "outputs": [],
   "source": [
    "np.arange(6, 10, 4)"
   ]
  },
  {
   "cell_type": "code",
   "execution_count": null,
   "id": "a449e25e-e250-4c7f-8cf4-7ccbac88a226",
   "metadata": {},
   "outputs": [],
   "source": [
    "np.linspace(0, 100, 5)"
   ]
  },
  {
   "cell_type": "code",
   "execution_count": null,
   "id": "27153d10-5939-42b3-9b42-6ea6a8bf2ae3",
   "metadata": {},
   "outputs": [],
   "source": [
    "np.random.random((1, 10))"
   ]
  },
  {
   "cell_type": "code",
   "execution_count": null,
   "id": "8f073e63-6952-4921-be8e-84291da0f1dd",
   "metadata": {},
   "outputs": [],
   "source": [
    "np.random.normal(0, 1, (2, 10))"
   ]
  }
 ],
 "metadata": {
  "kernelspec": {
   "display_name": "Python 3 (ipykernel)",
   "language": "python",
   "name": "python3"
  },
  "language_info": {
   "codemirror_mode": {
    "name": "ipython",
    "version": 3
   },
   "file_extension": ".py",
   "mimetype": "text/x-python",
   "name": "python",
   "nbconvert_exporter": "python",
   "pygments_lexer": "ipython3",
   "version": "3.9.5"
  }
 },
 "nbformat": 4,
 "nbformat_minor": 5
}
